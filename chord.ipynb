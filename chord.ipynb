{
  "nbformat": 4,
  "nbformat_minor": 0,
  "metadata": {
    "colab": {
      "name": "chord.ipynb",
      "provenance": [],
      "mount_file_id": "1QFnf4Uk2yj3KMyGSYKJqrYtGimtr-jBK",
      "authorship_tag": "ABX9TyOQMZXX/VG1T/iS7UriYBvY",
      "include_colab_link": true
    },
    "kernelspec": {
      "name": "python3",
      "display_name": "Python 3"
    }
  },
  "cells": [
    {
      "cell_type": "markdown",
      "metadata": {
        "id": "view-in-github",
        "colab_type": "text"
      },
      "source": [
        "<a href=\"https://colab.research.google.com/github/kyhrysk/music_analysis/blob/main/chord.ipynb\" target=\"_parent\"><img src=\"https://colab.research.google.com/assets/colab-badge.svg\" alt=\"Open In Colab\"/></a>"
      ]
    },
    {
      "cell_type": "code",
      "metadata": {
        "id": "2LFCrVB35JNk"
      },
      "source": [
        ""
      ],
      "execution_count": null,
      "outputs": []
    },
    {
      "cell_type": "markdown",
      "metadata": {
        "id": "a8_vH-yc5KrD"
      },
      "source": [
        "# chord wiki"
      ]
    },
    {
      "cell_type": "markdown",
      "metadata": {
        "id": "lOcaTQJ4Rnza"
      },
      "source": [
        "## スクレイピングからやってみる\n"
      ]
    },
    {
      "cell_type": "code",
      "metadata": {
        "colab": {
          "base_uri": "https://localhost:8080/"
        },
        "id": "IYlnrEgeGo8A",
        "outputId": "b8b0b8c4-a032-4cab-f2d9-abf1713c2dc1"
      },
      "source": [
        "dic = {\n",
        "    '星野源':'https://seesaawiki.jp/w/chordwiki/d/%c0%b1%cc%ee%b8%bb'\n",
        "}\n",
        "for key in dic.keys():\n",
        "    print(key)"
      ],
      "execution_count": null,
      "outputs": [
        {
          "output_type": "stream",
          "name": "stdout",
          "text": [
            "星野源\n"
          ]
        }
      ]
    },
    {
      "cell_type": "code",
      "metadata": {
        "colab": {
          "base_uri": "https://localhost:8080/"
        },
        "id": "MtSwx9y72BYh",
        "outputId": "064c427e-ab05-4aa0-aee2-41b093ad3185"
      },
      "source": [
        "from bs4 import BeautifulSoup\n",
        "import requests\n",
        "import pandas as pd\n",
        "\n",
        "ua = 'Mozilla/5.0 (Windows NT 6.1; Win64; x64; rv:47.0) Gecko/20100101 Firefox/47.0'\n",
        "headers = {'User-Agent': ua}\n",
        "\n",
        "url = \"https://seesaawiki.jp/w/chordwiki/d/%c0%b1%cc%ee%b8%bb\"\n",
        "r = requests.get(url,headers=headers)\n",
        "soup = BeautifulSoup(r.text, \"lxml\")\n",
        "links = soup.find_all('div', class_='wiki-section-body-1')\n",
        "print(r) \n",
        "print(soup.title)\n",
        "print(links[0])"
      ],
      "execution_count": null,
      "outputs": [
        {
          "output_type": "stream",
          "name": "stdout",
          "text": [
            "<Response [200]>\n",
            "<title>星野源 - ChordWiki 楽曲リスト</title>\n",
            "<div class=\"wiki-section-body-1\" id=\"content_block_1-body\">\n",
            "<a class=\"outlink\" href=\"https://ja.chordwiki.org/wiki/%E3%82%A2%E3%82%A4%E3%83%87%E3%82%A2\" rel=\"nofollow\" target=\"_blank\">アイデア</a><br/>\n",
            "<a class=\"outlink\" href=\"http://ja.chordwiki.org/wiki/%E3%81%82%E3%82%8B%E8%BB%8A%E6%8E%8C\" rel=\"nofollow\" target=\"_blank\">ある車掌</a><br/>\n",
            "<a class=\"outlink\" href=\"https://ja.chordwiki.org/wiki/Week+End\" rel=\"nofollow\" target=\"_blank\">Week End</a><br/>\n",
            "<a class=\"outlink\" href=\"https://ja.chordwiki.org/wiki/%E6%AD%8C%E3%82%92%E6%AD%8C%E3%81%86%E3%81%A8%E3%81%8D%E3%81%AF\" rel=\"nofollow\" target=\"_blank\">歌を歌うときは</a><br/>\n",
            "<a class=\"outlink\" href=\"https://ja.chordwiki.org/wiki/%E3%81%86%E3%81%A1%E3%81%A7%E8%B8%8A%E3%82%8D%E3%81%86\" rel=\"nofollow\" target=\"_blank\">うちで踊ろう</a><br/>\n",
            "<a class=\"outlink\" href=\"https://ja.chordwiki.org/wiki/Ain%E2%80%99t+Nobody+Know\" rel=\"nofollow\" target=\"_blank\">Ain't Nobody Know</a><br/>\n",
            "<a class=\"outlink\" href=\"http://chordwiki.jpn.org/wiki.cgi?c=view&amp;t=%B2%C8%C2%B2%A4%CA%A4%F3%A4%C7%A4%B9\" rel=\"nofollow\" target=\"_blank\">家族なんです</a><br/>\n",
            "<a class=\"outlink\" href=\"http://ja.chordwiki.org/wiki/%E3%82%AD%E3%83%83%E3%83%81%E3%83%B3\" rel=\"nofollow\" target=\"_blank\">キッチン</a><br/>\n",
            "<a class=\"outlink\" href=\"https://ja.chordwiki.org/wiki/%E3%82%B0%E3%83%BC\" rel=\"nofollow\" target=\"_blank\">グー</a><br/>\n",
            "<a class=\"outlink\" href=\"http://chordwiki.jpn.org/wiki.cgi?c=view&amp;t=%A4%AF%A4%BB%A4%CE%A4%A6%A4%BF\" rel=\"nofollow\" target=\"_blank\">くせのうた</a><br/>\n",
            "<a class=\"outlink\" href=\"https://ja.chordwiki.org/wiki/%E3%81%8F%E3%81%A0%E3%82%89%E3%81%AA%E3%81%84%E3%81%AE%E4%B8%AD%E3%81%AB\" rel=\"nofollow\" target=\"_blank\">くだらないの中に</a><br/>\n",
            "<a class=\"outlink\" href=\"https://ja.chordwiki.org/wiki/Crazy+Crazy\" rel=\"nofollow\" target=\"_blank\">Crazy Crazy</a><br/>\n",
            "<a class=\"outlink\" href=\"https://ja.chordwiki.org/wiki/Get+a+Feel+%28%E6%98%9F%E9%87%8E%E6%BA%90%29\" rel=\"nofollow\" target=\"_blank\">Get a Feel</a><br/>\n",
            "<a class=\"outlink\" href=\"https://ja.chordwiki.org/wiki/%E6%81%8B+%28%E6%98%9F%E9%87%8E%E6%BA%90%29\" rel=\"nofollow\" target=\"_blank\">恋</a><br/>\n",
            "<a class=\"outlink\" href=\"https://ja.chordwiki.org/wiki/%E5%AD%90%E4%BE%9B\" rel=\"nofollow\" target=\"_blank\">子供</a><br/>\n",
            "<a class=\"outlink\" href=\"https://ja.chordwiki.org/wiki/Continues\" rel=\"nofollow\" target=\"_blank\">Continues</a><br/>\n",
            "</div>\n"
          ]
        }
      ]
    },
    {
      "cell_type": "markdown",
      "metadata": {
        "id": "R4w0Gv0a5IbR"
      },
      "source": [
        ""
      ]
    },
    {
      "cell_type": "code",
      "metadata": {
        "id": "2-SoBDWW7BN2"
      },
      "source": [
        "links = soup.find_all('a', class_='outlink')"
      ],
      "execution_count": null,
      "outputs": []
    },
    {
      "cell_type": "code",
      "metadata": {
        "colab": {
          "base_uri": "https://localhost:8080/"
        },
        "id": "NnQDdtdpSQCq",
        "outputId": "107c9647-4216-4b27-cc98-4e0e99145271"
      },
      "source": [
        "links"
      ],
      "execution_count": null,
      "outputs": [
        {
          "output_type": "execute_result",
          "data": {
            "text/plain": [
              "[<a class=\"outlink\" href=\"https://ja.chordwiki.org/wiki/%E3%82%A2%E3%82%A4%E3%83%87%E3%82%A2\" rel=\"nofollow\" target=\"_blank\">アイデア</a>,\n",
              " <a class=\"outlink\" href=\"http://ja.chordwiki.org/wiki/%E3%81%82%E3%82%8B%E8%BB%8A%E6%8E%8C\" rel=\"nofollow\" target=\"_blank\">ある車掌</a>,\n",
              " <a class=\"outlink\" href=\"https://ja.chordwiki.org/wiki/Week+End\" rel=\"nofollow\" target=\"_blank\">Week End</a>,\n",
              " <a class=\"outlink\" href=\"https://ja.chordwiki.org/wiki/%E6%AD%8C%E3%82%92%E6%AD%8C%E3%81%86%E3%81%A8%E3%81%8D%E3%81%AF\" rel=\"nofollow\" target=\"_blank\">歌を歌うときは</a>,\n",
              " <a class=\"outlink\" href=\"https://ja.chordwiki.org/wiki/%E3%81%86%E3%81%A1%E3%81%A7%E8%B8%8A%E3%82%8D%E3%81%86\" rel=\"nofollow\" target=\"_blank\">うちで踊ろう</a>,\n",
              " <a class=\"outlink\" href=\"https://ja.chordwiki.org/wiki/Ain%E2%80%99t+Nobody+Know\" rel=\"nofollow\" target=\"_blank\">Ain't Nobody Know</a>,\n",
              " <a class=\"outlink\" href=\"http://chordwiki.jpn.org/wiki.cgi?c=view&amp;t=%B2%C8%C2%B2%A4%CA%A4%F3%A4%C7%A4%B9\" rel=\"nofollow\" target=\"_blank\">家族なんです</a>,\n",
              " <a class=\"outlink\" href=\"http://ja.chordwiki.org/wiki/%E3%82%AD%E3%83%83%E3%83%81%E3%83%B3\" rel=\"nofollow\" target=\"_blank\">キッチン</a>,\n",
              " <a class=\"outlink\" href=\"https://ja.chordwiki.org/wiki/%E3%82%B0%E3%83%BC\" rel=\"nofollow\" target=\"_blank\">グー</a>,\n",
              " <a class=\"outlink\" href=\"http://chordwiki.jpn.org/wiki.cgi?c=view&amp;t=%A4%AF%A4%BB%A4%CE%A4%A6%A4%BF\" rel=\"nofollow\" target=\"_blank\">くせのうた</a>,\n",
              " <a class=\"outlink\" href=\"https://ja.chordwiki.org/wiki/%E3%81%8F%E3%81%A0%E3%82%89%E3%81%AA%E3%81%84%E3%81%AE%E4%B8%AD%E3%81%AB\" rel=\"nofollow\" target=\"_blank\">くだらないの中に</a>,\n",
              " <a class=\"outlink\" href=\"https://ja.chordwiki.org/wiki/Crazy+Crazy\" rel=\"nofollow\" target=\"_blank\">Crazy Crazy</a>,\n",
              " <a class=\"outlink\" href=\"https://ja.chordwiki.org/wiki/Get+a+Feel+%28%E6%98%9F%E9%87%8E%E6%BA%90%29\" rel=\"nofollow\" target=\"_blank\">Get a Feel</a>,\n",
              " <a class=\"outlink\" href=\"https://ja.chordwiki.org/wiki/%E6%81%8B+%28%E6%98%9F%E9%87%8E%E6%BA%90%29\" rel=\"nofollow\" target=\"_blank\">恋</a>,\n",
              " <a class=\"outlink\" href=\"https://ja.chordwiki.org/wiki/%E5%AD%90%E4%BE%9B\" rel=\"nofollow\" target=\"_blank\">子供</a>,\n",
              " <a class=\"outlink\" href=\"https://ja.chordwiki.org/wiki/Continues\" rel=\"nofollow\" target=\"_blank\">Continues</a>,\n",
              " <a class=\"outlink\" href=\"https://ja.chordwiki.org/wiki/%E6%A1%9C%E3%81%AE%E6%A3%AE+%28%E6%98%9F%E9%87%8E%E6%BA%90%29\" rel=\"nofollow\" target=\"_blank\">桜の森</a>,\n",
              " <a class=\"outlink\" href=\"http://ja.chordwiki.org/wiki/SUN\" rel=\"nofollow\" target=\"_blank\">SUN</a>,\n",
              " <a class=\"outlink\" href=\"https://ja.chordwiki.org/wiki/%E5%9C%B0%E7%8D%84%E3%81%A7%E3%81%AA%E3%81%9C%E6%82%AA%E3%81%84\" rel=\"nofollow\" target=\"_blank\">地獄でなぜ悪い</a>,\n",
              " <a class=\"outlink\" href=\"https://ja.chordwiki.org/wiki/%E7%9F%A5%E3%82%89%E3%81%AA%E3%81%84\" rel=\"nofollow\" target=\"_blank\">知らない</a>,\n",
              " <a class=\"outlink\" href=\"https://ja.chordwiki.org/wiki/%E3%82%B9%E3%82%AB%E3%83%BC%E3%83%88+%28%E6%98%9F%E9%87%8E%E6%BA%90%29\" rel=\"nofollow\" target=\"_blank\">スカート</a>,\n",
              " <a class=\"outlink\" href=\"http://ja.chordwiki.org/wiki/%E3%82%B9%E3%83%88%E3%83%BC%E3%83%96\" rel=\"nofollow\" target=\"_blank\">ストーブ</a>,\n",
              " <a class=\"outlink\" href=\"http://ja.chordwiki.org/wiki/Snow+Men\" rel=\"nofollow\" target=\"_blank\">Snow Men</a>,\n",
              " <a class=\"outlink\" href=\"https://ja.chordwiki.org/wiki/%E6%AC%A1%E3%81%AF%E4%BD%95%E3%81%AB%E7%94%A3%E3%81%BE%E3%82%8C%E3%81%BE%E3%81%97%E3%82%87%E3%81%86%E3%81%8B\" rel=\"nofollow\" target=\"_blank\">次は何に産まれましょうか</a>,\n",
              " <a class=\"outlink\" href=\"https://ja.chordwiki.org/wiki/%E9%9B%BB%E6%B3%A2%E5%A1%94\" rel=\"nofollow\" target=\"_blank\">電波塔</a>,\n",
              " <a class=\"outlink\" href=\"https://ja.chordwiki.org/wiki/%E6%99%82%E3%82%88\" rel=\"nofollow\" target=\"_blank\">時よ</a>,\n",
              " <a class=\"outlink\" href=\"https://ja.chordwiki.org/wiki/%E3%83%89%E3%83%A9%E3%81%88%E3%82%82%E3%82%93+%28%E6%98%9F%E9%87%8E%E6%BA%90%29\" rel=\"nofollow\" target=\"_blank\">ドラえもん</a>,\n",
              " <a class=\"outlink\" href=\"http://chordwiki.jpn.org/wiki.cgi?c=view&amp;t=%C6%FC%BE%EF\" rel=\"nofollow\" target=\"_blank\">日常</a>,\n",
              " <a class=\"outlink\" href=\"https://ja.chordwiki.org/wiki/%E3%83%90%E3%82%A4%E3%83%88\" rel=\"nofollow\" target=\"_blank\">バイト</a>,\n",
              " <a class=\"outlink\" href=\"https://ja.chordwiki.org/wiki/%E3%81%B0%E3%81%8B%E3%81%AE%E3%81%86%E3%81%9F\" rel=\"nofollow\" target=\"_blank\">ばかのうた</a>,\n",
              " <a class=\"outlink\" href=\"http://ja.chordwiki.org/wiki/%E5%8C%96%E7%89%A9\" rel=\"nofollow\" target=\"_blank\">化物</a>,\n",
              " <a class=\"outlink\" href=\"https://ja.chordwiki.org/wiki/Hello+Song+%28%E6%98%9F%E9%87%8E%E6%BA%90%29\" rel=\"nofollow\" target=\"_blank\">Hello Song</a>,\n",
              " <a class=\"outlink\" href=\"https://ja.chordwiki.org/wiki/%E8%82%8C+%28%E6%98%9F%E9%87%8E%E6%BA%90%29\" rel=\"nofollow\" target=\"_blank\">肌</a>,\n",
              " <a class=\"outlink\" href=\"https://ja.chordwiki.org/wiki/Family+Song\" rel=\"nofollow\" target=\"_blank\">Family Song</a>,\n",
              " <a class=\"outlink\" href=\"https://ja.chordwiki.org/wiki/%E3%83%95%E3%82%A3%E3%83%AB%E3%83%A0+%28%E6%98%9F%E9%87%8E%E6%BA%90%29\" rel=\"nofollow\" target=\"_blank\">フィルム</a>,\n",
              " <a class=\"outlink\" href=\"http://chordwiki.jpn.org/wiki.cgi?c=view&amp;t=%C9%DB%C3%C4\" rel=\"nofollow\" target=\"_blank\">布団</a>,\n",
              " <a class=\"outlink\" href=\"https://ja.chordwiki.org/wiki/Friend+Ship\" rel=\"nofollow\" target=\"_blank\">Friend Ship</a>,\n",
              " <a class=\"outlink\" href=\"https://ja.chordwiki.org/wiki/Pop+Virus\" rel=\"nofollow\" target=\"_blank\">Pop Virus</a>]"
            ]
          },
          "metadata": {},
          "execution_count": 11
        }
      ]
    },
    {
      "cell_type": "code",
      "metadata": {
        "colab": {
          "base_uri": "https://localhost:8080/",
          "height": 35
        },
        "id": "R2IAI0Ei7ByQ",
        "outputId": "4ddf38fa-9474-4c29-96dd-e62b4a2ad62d"
      },
      "source": [
        "links[0].get('href')"
      ],
      "execution_count": null,
      "outputs": [
        {
          "output_type": "execute_result",
          "data": {
            "application/vnd.google.colaboratory.intrinsic+json": {
              "type": "string"
            },
            "text/plain": [
              "'https://ja.chordwiki.org/wiki/%E3%82%A2%E3%82%A4%E3%83%87%E3%82%A2'"
            ]
          },
          "metadata": {},
          "execution_count": 12
        }
      ]
    },
    {
      "cell_type": "code",
      "metadata": {
        "colab": {
          "base_uri": "https://localhost:8080/",
          "height": 35
        },
        "id": "r3Iz8fhhsqkO",
        "outputId": "a3bb0daa-96a3-4c8f-8df8-84a8f1cb5e56"
      },
      "source": [
        "links[0].get_text()"
      ],
      "execution_count": null,
      "outputs": [
        {
          "output_type": "execute_result",
          "data": {
            "application/vnd.google.colaboratory.intrinsic+json": {
              "type": "string"
            },
            "text/plain": [
              "'アイデア'"
            ]
          },
          "metadata": {},
          "execution_count": 13
        }
      ]
    },
    {
      "cell_type": "code",
      "metadata": {
        "id": "82SqfpKS7gmn"
      },
      "source": [
        "edit_url = 'https://ja.chordwiki.org/wiki.cgi?c=edit&t='\n",
        "url2 = links[5].get('href')\n",
        "title = links[5].get_text()\n",
        "artist = '星野源'\n",
        "r2 = requests.get(url2)\n",
        "soup2 = BeautifulSoup(r2.text, \"lxml\")\n",
        "#<a href=\"/wikiyou>[編集]</a>"
      ],
      "execution_count": null,
      "outputs": []
    },
    {
      "cell_type": "code",
      "metadata": {
        "colab": {
          "base_uri": "https://localhost:8080/"
        },
        "id": "1SY_Zmz-XF5K",
        "outputId": "925de779-c6e4-4b00-979e-9771545c74a2"
      },
      "source": [
        "url2_split = url2.split('/')[-1]\n",
        "url3 = edit_url + url2_split\n",
        "print(url3)"
      ],
      "execution_count": null,
      "outputs": [
        {
          "output_type": "stream",
          "name": "stdout",
          "text": [
            "https://ja.chordwiki.org/wiki.cgi?c=edit&t=Ain%E2%80%99t+Nobody+Know\n"
          ]
        }
      ]
    },
    {
      "cell_type": "code",
      "metadata": {
        "colab": {
          "base_uri": "https://localhost:8080/",
          "height": 159
        },
        "id": "UgPa0_XrXp2L",
        "outputId": "5c09bd44-9c58-45ec-ec07-8595f07f0dd1"
      },
      "source": [
        "r3 = requests.get(url3)\n",
        "soup3 = BeautifulSoup(r3.text, \"lxml\")\n",
        "soup3.textarea.text"
      ],
      "execution_count": null,
      "outputs": [
        {
          "output_type": "execute_result",
          "data": {
            "application/vnd.google.colaboratory.intrinsic+json": {
              "type": "string"
            },
            "text/plain": [
              "\"\\n{title:Ain't Nobody Know}\\r\\n{subtitle:歌・作詞：星野源\\u3000作曲：Tom Misch・星野源}\\r\\n{c:BPM=60\\u3000\\u30004/4拍子\\u3000-：8分音符}\\r\\n[Db]---[C7alt]- ----|[Fm7]---[Ab]- ----|[Db]---[C7alt]- ----|[Fm7]---- ----|\\r\\n[Bbm9]---[C7alt]- ----|[Fm7]---[Ab]- ----|[Bbm9]---[C7alt]- ----|[Fm7]---- ----|\\r\\n[Bbm9]Baby[C7alt]瞳の中[Fm7]雨で濡れてた\\r\\n[Bbm9]とっくの[C7alt]昔出会った[Fm7]ような気がした\\r\\n[Bbm9]暗闇[C7alt]温かな肌[Fm7]言葉の裏の想いが\\r\\n[Bbm9]心の[C7alt]首筋舐めた[Fm7]その後で\\r\\n\\r\\n[N.C.]Ain't nobody [Bbm9]know Ain't nobody [C7alt]watching us\\r\\n[Fm7]僕らのキスは いつまでも[Bbm9]いつまで[C7alt]でも[Fm7]続くだ[F7b9]ろう\\r\\nAin't nobody [Bbm9]know Ain't nobody [C7alt]watching us\\r\\n[Fm7]さよならさえも いつまでも[Bbm9]いつまで[C7alt]でも[Fm7]奪えな[Ab13sus4]い[Ab7b13]さ\\r\\n\\r\\n[Bbm9]Beats me[C7alt]頭の中[Fm7]怒りで満ちた\\r\\n[Bbm9]夜が壊[C7alt]れるほど[Fm7]二人踊った\\r\\n[Bbm9]卑劣が[C7alt]肩を叩けば[Fm7]笑顔が唾の代わりさ\\r\\n[Bbm9]誰も[C7alt]来られない場所に[Fm7]僕ら居る\\r\\n\\r\\n[N.C.]Ain't nobody [Bbm9]know Ain't nobody [C7alt]watching us\\r\\n[Fm7]僕らのキスは いつまでも[Bbm9]いつまで[C7alt]でも[Fm7]続くだ[F7b9]ろう\\r\\nAin't nobody [Bbm9]know Ain't nobody [C7alt]watching us\\r\\n[Fm7]さよならさえも いつまでも[Bbm9]いつまで[C7alt]でも[Fm7]奪えな[Ab13sus4]い\\r\\n\\r\\n[N.C.]Ain't nobody [Bbm9]know Ain't nobody [C7alt]watching us\\r\\n[Fm7]僕らのキスは いつまでも[Bbm9]いつまで[C7alt]でも[Fm7]続くだ[F7b9]ろう\\r\\nAin't nobody [Bbm9]know Ain't nobody [C7alt]watching us\\r\\n[Fm7]さよならさえも いつまでも[Bbm9]いつまで[C7alt]でも[Fm7]奪えな[Ab13sus4]い[Ab7b13]さ\\r\\n\\r\\n[Bbm9]---[C7alt]- ----|[Fm7]---- ----|[Bbm9]---[C7alt]- ----|[Fm7]---- ----|\\r\\n[Bbm9]---[C7alt]- ----|[Fm7]---- ----|[Bbm9]---[C7alt]- ----|[Fm7]---- ---[Ab]-|\""
            ]
          },
          "metadata": {},
          "execution_count": 88
        }
      ]
    },
    {
      "cell_type": "code",
      "metadata": {
        "id": "674WZmJfXuu-"
      },
      "source": [
        ""
      ],
      "execution_count": null,
      "outputs": []
    },
    {
      "cell_type": "markdown",
      "metadata": {
        "id": "JAHIxMkbRbFj"
      },
      "source": [
        "## スクレイピング済みのものでやる"
      ]
    },
    {
      "cell_type": "code",
      "metadata": {
        "id": "x2-XsSGfRuNb"
      },
      "source": [
        "#f = open('./drive/MyDrive/koi.txt', 'r')"
      ],
      "execution_count": null,
      "outputs": []
    },
    {
      "cell_type": "code",
      "metadata": {
        "id": "Bu10WQku4USy"
      },
      "source": [
        "import pandas as pd"
      ],
      "execution_count": null,
      "outputs": []
    },
    {
      "cell_type": "code",
      "metadata": {
        "id": "y8JIDWi6DTx3"
      },
      "source": [
        "dc={\n",
        "    'C':0,\n",
        "    'C#':1,\n",
        "    'Db':1,\n",
        "    'D':2,\n",
        "    'D#':3,\n",
        "    'Eb':3,\n",
        "    'E':4,\n",
        "    'E#':5,\n",
        "    'Fb':4,\n",
        "    'F':5,\n",
        "    'F#':6,\n",
        "    'Gb':6,\n",
        "    'G':7,\n",
        "    'G#':8,\n",
        "    'Ab':8,\n",
        "    'A':9,\n",
        "    'A#':10,\n",
        "    'Bb':10,\n",
        "    'B':11,\n",
        "    'B#':0,\n",
        "    'Cb':11,\n",
        "}"
      ],
      "execution_count": null,
      "outputs": []
    },
    {
      "cell_type": "code",
      "metadata": {
        "id": "Ts2NShDISJIu"
      },
      "source": [
        "sen = soup3.textarea.text"
      ],
      "execution_count": null,
      "outputs": []
    },
    {
      "cell_type": "code",
      "metadata": {
        "colab": {
          "base_uri": "https://localhost:8080/",
          "height": 159
        },
        "id": "rcCfQCHSSNMs",
        "outputId": "dd2efdb2-332d-4659-e77c-236378266c83"
      },
      "source": [
        "sen"
      ],
      "execution_count": null,
      "outputs": [
        {
          "output_type": "execute_result",
          "data": {
            "application/vnd.google.colaboratory.intrinsic+json": {
              "type": "string"
            },
            "text/plain": [
              "\"\\n{title:Ain't Nobody Know}\\r\\n{subtitle:歌・作詞：星野源\\u3000作曲：Tom Misch・星野源}\\r\\n{c:BPM=60\\u3000\\u30004/4拍子\\u3000-：8分音符}\\r\\n[Db]---[C7alt]- ----|[Fm7]---[Ab]- ----|[Db]---[C7alt]- ----|[Fm7]---- ----|\\r\\n[Bbm9]---[C7alt]- ----|[Fm7]---[Ab]- ----|[Bbm9]---[C7alt]- ----|[Fm7]---- ----|\\r\\n[Bbm9]Baby[C7alt]瞳の中[Fm7]雨で濡れてた\\r\\n[Bbm9]とっくの[C7alt]昔出会った[Fm7]ような気がした\\r\\n[Bbm9]暗闇[C7alt]温かな肌[Fm7]言葉の裏の想いが\\r\\n[Bbm9]心の[C7alt]首筋舐めた[Fm7]その後で\\r\\n\\r\\n[N.C.]Ain't nobody [Bbm9]know Ain't nobody [C7alt]watching us\\r\\n[Fm7]僕らのキスは いつまでも[Bbm9]いつまで[C7alt]でも[Fm7]続くだ[F7b9]ろう\\r\\nAin't nobody [Bbm9]know Ain't nobody [C7alt]watching us\\r\\n[Fm7]さよならさえも いつまでも[Bbm9]いつまで[C7alt]でも[Fm7]奪えな[Ab13sus4]い[Ab7b13]さ\\r\\n\\r\\n[Bbm9]Beats me[C7alt]頭の中[Fm7]怒りで満ちた\\r\\n[Bbm9]夜が壊[C7alt]れるほど[Fm7]二人踊った\\r\\n[Bbm9]卑劣が[C7alt]肩を叩けば[Fm7]笑顔が唾の代わりさ\\r\\n[Bbm9]誰も[C7alt]来られない場所に[Fm7]僕ら居る\\r\\n\\r\\n[N.C.]Ain't nobody [Bbm9]know Ain't nobody [C7alt]watching us\\r\\n[Fm7]僕らのキスは いつまでも[Bbm9]いつまで[C7alt]でも[Fm7]続くだ[F7b9]ろう\\r\\nAin't nobody [Bbm9]know Ain't nobody [C7alt]watching us\\r\\n[Fm7]さよならさえも いつまでも[Bbm9]いつまで[C7alt]でも[Fm7]奪えな[Ab13sus4]い\\r\\n\\r\\n[N.C.]Ain't nobody [Bbm9]know Ain't nobody [C7alt]watching us\\r\\n[Fm7]僕らのキスは いつまでも[Bbm9]いつまで[C7alt]でも[Fm7]続くだ[F7b9]ろう\\r\\nAin't nobody [Bbm9]know Ain't nobody [C7alt]watching us\\r\\n[Fm7]さよならさえも いつまでも[Bbm9]いつまで[C7alt]でも[Fm7]奪えな[Ab13sus4]い[Ab7b13]さ\\r\\n\\r\\n[Bbm9]---[C7alt]- ----|[Fm7]---- ----|[Bbm9]---[C7alt]- ----|[Fm7]---- ----|\\r\\n[Bbm9]---[C7alt]- ----|[Fm7]---- ----|[Bbm9]---[C7alt]- ----|[Fm7]---- ---[Ab]-|\""
            ]
          },
          "metadata": {},
          "execution_count": 93
        }
      ]
    },
    {
      "cell_type": "code",
      "metadata": {
        "colab": {
          "base_uri": "https://localhost:8080/",
          "height": 35
        },
        "id": "HihjITXHSsHG",
        "outputId": "34bc85fd-5074-4742-e05d-3cd5a23f5d57"
      },
      "source": [
        "sen.split('[')[-1].split(']')[0]"
      ],
      "execution_count": null,
      "outputs": [
        {
          "output_type": "execute_result",
          "data": {
            "application/vnd.google.colaboratory.intrinsic+json": {
              "type": "string"
            },
            "text/plain": [
              "'Ab'"
            ]
          },
          "metadata": {},
          "execution_count": 94
        }
      ]
    },
    {
      "cell_type": "code",
      "metadata": {
        "colab": {
          "base_uri": "https://localhost:8080/"
        },
        "id": "reT6UbFzSs_2",
        "outputId": "f9e6def3-4b12-4545-ef22-791ef508d92e"
      },
      "source": [
        "sen.find('EbM7')"
      ],
      "execution_count": null,
      "outputs": [
        {
          "output_type": "execute_result",
          "data": {
            "text/plain": [
              "-1"
            ]
          },
          "metadata": {},
          "execution_count": 95
        }
      ]
    },
    {
      "cell_type": "code",
      "metadata": {
        "id": "C6t6n3jTUEn7"
      },
      "source": [
        "import re\n",
        "tako = '\\\\[.+?\\\\]'\n",
        "#tako = re.escape(tako)\n",
        "lis = re.findall(tako,sen)"
      ],
      "execution_count": null,
      "outputs": []
    },
    {
      "cell_type": "code",
      "metadata": {
        "colab": {
          "base_uri": "https://localhost:8080/",
          "height": 417
        },
        "id": "YqbA4oXiUwM3",
        "outputId": "821e0f89-979d-42be-83eb-abcdad189318"
      },
      "source": [
        "lis\n",
        "lis2 = []\n",
        "song = title\n",
        "\n",
        "for item in lis: \n",
        "    item = item.replace(\"[\",\"\")\n",
        "    item = item.replace(\"]\",\"\")\n",
        "    item = item.replace(\"(\",\"\")\n",
        "    item = item.replace(\")\",\"\")\n",
        "    lis2.append(item)\n",
        "\n",
        "df = pd.DataFrame(lis2,columns = ['chord_name'])\n",
        "df['song'] = song\n",
        "df['root'] = ''\n",
        "df['app'] =''\n",
        "df['vulgar']=''\n",
        "df"
      ],
      "execution_count": null,
      "outputs": [
        {
          "output_type": "execute_result",
          "data": {
            "text/html": [
              "<div>\n",
              "<style scoped>\n",
              "    .dataframe tbody tr th:only-of-type {\n",
              "        vertical-align: middle;\n",
              "    }\n",
              "\n",
              "    .dataframe tbody tr th {\n",
              "        vertical-align: top;\n",
              "    }\n",
              "\n",
              "    .dataframe thead th {\n",
              "        text-align: right;\n",
              "    }\n",
              "</style>\n",
              "<table border=\"1\" class=\"dataframe\">\n",
              "  <thead>\n",
              "    <tr style=\"text-align: right;\">\n",
              "      <th></th>\n",
              "      <th>chord_name</th>\n",
              "      <th>song</th>\n",
              "      <th>root</th>\n",
              "      <th>app</th>\n",
              "      <th>vulgar</th>\n",
              "    </tr>\n",
              "  </thead>\n",
              "  <tbody>\n",
              "    <tr>\n",
              "      <th>0</th>\n",
              "      <td>Db</td>\n",
              "      <td>Ain't Nobody Know</td>\n",
              "      <td></td>\n",
              "      <td></td>\n",
              "      <td></td>\n",
              "    </tr>\n",
              "    <tr>\n",
              "      <th>1</th>\n",
              "      <td>C7alt</td>\n",
              "      <td>Ain't Nobody Know</td>\n",
              "      <td></td>\n",
              "      <td></td>\n",
              "      <td></td>\n",
              "    </tr>\n",
              "    <tr>\n",
              "      <th>2</th>\n",
              "      <td>Fm7</td>\n",
              "      <td>Ain't Nobody Know</td>\n",
              "      <td></td>\n",
              "      <td></td>\n",
              "      <td></td>\n",
              "    </tr>\n",
              "    <tr>\n",
              "      <th>3</th>\n",
              "      <td>Ab</td>\n",
              "      <td>Ain't Nobody Know</td>\n",
              "      <td></td>\n",
              "      <td></td>\n",
              "      <td></td>\n",
              "    </tr>\n",
              "    <tr>\n",
              "      <th>4</th>\n",
              "      <td>Db</td>\n",
              "      <td>Ain't Nobody Know</td>\n",
              "      <td></td>\n",
              "      <td></td>\n",
              "      <td></td>\n",
              "    </tr>\n",
              "    <tr>\n",
              "      <th>...</th>\n",
              "      <td>...</td>\n",
              "      <td>...</td>\n",
              "      <td>...</td>\n",
              "      <td>...</td>\n",
              "      <td>...</td>\n",
              "    </tr>\n",
              "    <tr>\n",
              "      <th>93</th>\n",
              "      <td>Fm7</td>\n",
              "      <td>Ain't Nobody Know</td>\n",
              "      <td></td>\n",
              "      <td></td>\n",
              "      <td></td>\n",
              "    </tr>\n",
              "    <tr>\n",
              "      <th>94</th>\n",
              "      <td>Bbm9</td>\n",
              "      <td>Ain't Nobody Know</td>\n",
              "      <td></td>\n",
              "      <td></td>\n",
              "      <td></td>\n",
              "    </tr>\n",
              "    <tr>\n",
              "      <th>95</th>\n",
              "      <td>C7alt</td>\n",
              "      <td>Ain't Nobody Know</td>\n",
              "      <td></td>\n",
              "      <td></td>\n",
              "      <td></td>\n",
              "    </tr>\n",
              "    <tr>\n",
              "      <th>96</th>\n",
              "      <td>Fm7</td>\n",
              "      <td>Ain't Nobody Know</td>\n",
              "      <td></td>\n",
              "      <td></td>\n",
              "      <td></td>\n",
              "    </tr>\n",
              "    <tr>\n",
              "      <th>97</th>\n",
              "      <td>Ab</td>\n",
              "      <td>Ain't Nobody Know</td>\n",
              "      <td></td>\n",
              "      <td></td>\n",
              "      <td></td>\n",
              "    </tr>\n",
              "  </tbody>\n",
              "</table>\n",
              "<p>98 rows × 5 columns</p>\n",
              "</div>"
            ],
            "text/plain": [
              "   chord_name               song root app vulgar\n",
              "0          Db  Ain't Nobody Know                \n",
              "1       C7alt  Ain't Nobody Know                \n",
              "2         Fm7  Ain't Nobody Know                \n",
              "3          Ab  Ain't Nobody Know                \n",
              "4          Db  Ain't Nobody Know                \n",
              "..        ...                ...  ...  ..    ...\n",
              "93        Fm7  Ain't Nobody Know                \n",
              "94       Bbm9  Ain't Nobody Know                \n",
              "95      C7alt  Ain't Nobody Know                \n",
              "96        Fm7  Ain't Nobody Know                \n",
              "97         Ab  Ain't Nobody Know                \n",
              "\n",
              "[98 rows x 5 columns]"
            ]
          },
          "metadata": {},
          "execution_count": 97
        }
      ]
    },
    {
      "cell_type": "code",
      "metadata": {
        "colab": {
          "base_uri": "https://localhost:8080/",
          "height": 256
        },
        "id": "ssIraIUh6OEM",
        "outputId": "c5baa922-c805-4868-b708-2e89e625ed19"
      },
      "source": [
        "for index,row in df.iterrows():\n",
        "    i = 0\n",
        "    if row[0][0] in dc: #chordの1文字目にA-Gが含まれているか\n",
        "        if len(row[i]) > 1: #chordは二文字以上か\n",
        "            if row[0][i+1] in ['#','b']: #二文字以降は#,♭か\n",
        "                ch =  row[0][i] + row[0][i+1] #ルート＋記号\n",
        "                row[2] = dc[ch] #ルートを数値変換して格納\n",
        "                row[3] = row[0][i+2:].split('/')[0] #ルート以外の部分を格納\n",
        "                if '/' in row[0][i+2:]:\n",
        "                    row[4] = row[0][i+2:].split('/')[1] #ルート以外の部分を格納\n",
        "            else : # #,bがない場合\n",
        "                ch = row[0][i] \n",
        "                row[2] = dc[ch]\n",
        "                row[3] = row[0][i+1:].split('/')[0]\n",
        "                if '/' in row[0][i+1]:\n",
        "                    row[4] = row[0][i+1:].split('/')[1] #ルート以外の部分を格納\n",
        "        else :#chordが1文字の場合\n",
        "            ch = row[0][i]\n",
        "            row[2] = dc[ch]\n",
        "            row[3] = row[0][i+1:]\n",
        "    else : \n",
        "        pass\n",
        "        #df.drop(index,inplace=True)\n",
        "        print(index)\n",
        "#df = pd.concat([df, df['app'].str.split('/', expand=True)], axis=1).drop('app', axis=1)\n",
        "df.head()"
      ],
      "execution_count": null,
      "outputs": [
        {
          "output_type": "stream",
          "name": "stdout",
          "text": [
            "26\n",
            "54\n",
            "69\n"
          ]
        },
        {
          "output_type": "execute_result",
          "data": {
            "text/html": [
              "<div>\n",
              "<style scoped>\n",
              "    .dataframe tbody tr th:only-of-type {\n",
              "        vertical-align: middle;\n",
              "    }\n",
              "\n",
              "    .dataframe tbody tr th {\n",
              "        vertical-align: top;\n",
              "    }\n",
              "\n",
              "    .dataframe thead th {\n",
              "        text-align: right;\n",
              "    }\n",
              "</style>\n",
              "<table border=\"1\" class=\"dataframe\">\n",
              "  <thead>\n",
              "    <tr style=\"text-align: right;\">\n",
              "      <th></th>\n",
              "      <th>chord_name</th>\n",
              "      <th>song</th>\n",
              "      <th>root</th>\n",
              "      <th>app</th>\n",
              "      <th>vulgar</th>\n",
              "    </tr>\n",
              "  </thead>\n",
              "  <tbody>\n",
              "    <tr>\n",
              "      <th>0</th>\n",
              "      <td>Db</td>\n",
              "      <td>Ain't Nobody Know</td>\n",
              "      <td>1</td>\n",
              "      <td></td>\n",
              "      <td></td>\n",
              "    </tr>\n",
              "    <tr>\n",
              "      <th>1</th>\n",
              "      <td>C7alt</td>\n",
              "      <td>Ain't Nobody Know</td>\n",
              "      <td>0</td>\n",
              "      <td>7alt</td>\n",
              "      <td></td>\n",
              "    </tr>\n",
              "    <tr>\n",
              "      <th>2</th>\n",
              "      <td>Fm7</td>\n",
              "      <td>Ain't Nobody Know</td>\n",
              "      <td>5</td>\n",
              "      <td>m7</td>\n",
              "      <td></td>\n",
              "    </tr>\n",
              "    <tr>\n",
              "      <th>3</th>\n",
              "      <td>Ab</td>\n",
              "      <td>Ain't Nobody Know</td>\n",
              "      <td>8</td>\n",
              "      <td></td>\n",
              "      <td></td>\n",
              "    </tr>\n",
              "    <tr>\n",
              "      <th>4</th>\n",
              "      <td>Db</td>\n",
              "      <td>Ain't Nobody Know</td>\n",
              "      <td>1</td>\n",
              "      <td></td>\n",
              "      <td></td>\n",
              "    </tr>\n",
              "  </tbody>\n",
              "</table>\n",
              "</div>"
            ],
            "text/plain": [
              "  chord_name               song root   app vulgar\n",
              "0         Db  Ain't Nobody Know    1             \n",
              "1      C7alt  Ain't Nobody Know    0  7alt       \n",
              "2        Fm7  Ain't Nobody Know    5    m7       \n",
              "3         Ab  Ain't Nobody Know    8             \n",
              "4         Db  Ain't Nobody Know    1             "
            ]
          },
          "metadata": {},
          "execution_count": 98
        }
      ]
    },
    {
      "cell_type": "code",
      "metadata": {
        "colab": {
          "base_uri": "https://localhost:8080/",
          "height": 417
        },
        "id": "CKwVpQxX72Vu",
        "outputId": "bb1eaab8-7f8a-42a1-8131-669f4d3d18c7"
      },
      "source": [
        "pd.set_option('display.max_rows',30)\n",
        "df"
      ],
      "execution_count": null,
      "outputs": [
        {
          "output_type": "execute_result",
          "data": {
            "text/html": [
              "<div>\n",
              "<style scoped>\n",
              "    .dataframe tbody tr th:only-of-type {\n",
              "        vertical-align: middle;\n",
              "    }\n",
              "\n",
              "    .dataframe tbody tr th {\n",
              "        vertical-align: top;\n",
              "    }\n",
              "\n",
              "    .dataframe thead th {\n",
              "        text-align: right;\n",
              "    }\n",
              "</style>\n",
              "<table border=\"1\" class=\"dataframe\">\n",
              "  <thead>\n",
              "    <tr style=\"text-align: right;\">\n",
              "      <th></th>\n",
              "      <th>chord_name</th>\n",
              "      <th>song</th>\n",
              "      <th>root</th>\n",
              "      <th>app</th>\n",
              "      <th>vulgar</th>\n",
              "    </tr>\n",
              "  </thead>\n",
              "  <tbody>\n",
              "    <tr>\n",
              "      <th>0</th>\n",
              "      <td>Db</td>\n",
              "      <td>Ain't Nobody Know</td>\n",
              "      <td>1</td>\n",
              "      <td></td>\n",
              "      <td></td>\n",
              "    </tr>\n",
              "    <tr>\n",
              "      <th>1</th>\n",
              "      <td>C7alt</td>\n",
              "      <td>Ain't Nobody Know</td>\n",
              "      <td>0</td>\n",
              "      <td>7alt</td>\n",
              "      <td></td>\n",
              "    </tr>\n",
              "    <tr>\n",
              "      <th>2</th>\n",
              "      <td>Fm7</td>\n",
              "      <td>Ain't Nobody Know</td>\n",
              "      <td>5</td>\n",
              "      <td>m7</td>\n",
              "      <td></td>\n",
              "    </tr>\n",
              "    <tr>\n",
              "      <th>3</th>\n",
              "      <td>Ab</td>\n",
              "      <td>Ain't Nobody Know</td>\n",
              "      <td>8</td>\n",
              "      <td></td>\n",
              "      <td></td>\n",
              "    </tr>\n",
              "    <tr>\n",
              "      <th>4</th>\n",
              "      <td>Db</td>\n",
              "      <td>Ain't Nobody Know</td>\n",
              "      <td>1</td>\n",
              "      <td></td>\n",
              "      <td></td>\n",
              "    </tr>\n",
              "    <tr>\n",
              "      <th>...</th>\n",
              "      <td>...</td>\n",
              "      <td>...</td>\n",
              "      <td>...</td>\n",
              "      <td>...</td>\n",
              "      <td>...</td>\n",
              "    </tr>\n",
              "    <tr>\n",
              "      <th>93</th>\n",
              "      <td>Fm7</td>\n",
              "      <td>Ain't Nobody Know</td>\n",
              "      <td>5</td>\n",
              "      <td>m7</td>\n",
              "      <td></td>\n",
              "    </tr>\n",
              "    <tr>\n",
              "      <th>94</th>\n",
              "      <td>Bbm9</td>\n",
              "      <td>Ain't Nobody Know</td>\n",
              "      <td>10</td>\n",
              "      <td>m9</td>\n",
              "      <td></td>\n",
              "    </tr>\n",
              "    <tr>\n",
              "      <th>95</th>\n",
              "      <td>C7alt</td>\n",
              "      <td>Ain't Nobody Know</td>\n",
              "      <td>0</td>\n",
              "      <td>7alt</td>\n",
              "      <td></td>\n",
              "    </tr>\n",
              "    <tr>\n",
              "      <th>96</th>\n",
              "      <td>Fm7</td>\n",
              "      <td>Ain't Nobody Know</td>\n",
              "      <td>5</td>\n",
              "      <td>m7</td>\n",
              "      <td></td>\n",
              "    </tr>\n",
              "    <tr>\n",
              "      <th>97</th>\n",
              "      <td>Ab</td>\n",
              "      <td>Ain't Nobody Know</td>\n",
              "      <td>8</td>\n",
              "      <td></td>\n",
              "      <td></td>\n",
              "    </tr>\n",
              "  </tbody>\n",
              "</table>\n",
              "<p>98 rows × 5 columns</p>\n",
              "</div>"
            ],
            "text/plain": [
              "   chord_name               song root   app vulgar\n",
              "0          Db  Ain't Nobody Know    1             \n",
              "1       C7alt  Ain't Nobody Know    0  7alt       \n",
              "2         Fm7  Ain't Nobody Know    5    m7       \n",
              "3          Ab  Ain't Nobody Know    8             \n",
              "4          Db  Ain't Nobody Know    1             \n",
              "..        ...                ...  ...   ...    ...\n",
              "93        Fm7  Ain't Nobody Know    5    m7       \n",
              "94       Bbm9  Ain't Nobody Know   10    m9       \n",
              "95      C7alt  Ain't Nobody Know    0  7alt       \n",
              "96        Fm7  Ain't Nobody Know    5    m7       \n",
              "97         Ab  Ain't Nobody Know    8             \n",
              "\n",
              "[98 rows x 5 columns]"
            ]
          },
          "metadata": {},
          "execution_count": 99
        }
      ]
    },
    {
      "cell_type": "code",
      "metadata": {
        "id": "b702KAejVgdC",
        "colab": {
          "base_uri": "https://localhost:8080/",
          "height": 35
        },
        "outputId": "d6b80c7b-517c-4f96-cf8c-6f71378c6348"
      },
      "source": [
        "df.iloc[52][0][2]"
      ],
      "execution_count": null,
      "outputs": [
        {
          "output_type": "execute_result",
          "data": {
            "application/vnd.google.colaboratory.intrinsic+json": {
              "type": "string"
            },
            "text/plain": [
              "'a'"
            ]
          },
          "metadata": {},
          "execution_count": 100
        }
      ]
    },
    {
      "cell_type": "code",
      "metadata": {
        "id": "EDOlc_T6dNAj",
        "colab": {
          "base_uri": "https://localhost:8080/"
        },
        "outputId": "5d887349-b037-465a-bb68-c793e8f9a8ab"
      },
      "source": [
        "cong)"
      ],
      "execution_count": null,
      "outputs": [
        {
          "output_type": "stream",
          "name": "stdout",
          "text": [
            "星野源 Ain't Nobody Know\n"
          ]
        }
      ]
    },
    {
      "cell_type": "code",
      "metadata": {
        "id": "zD15_F3a5AZM"
      },
      "source": [
        ""
      ],
      "execution_count": null,
      "outputs": []
    },
    {
      "cell_type": "markdown",
      "metadata": {
        "id": "1rsNmBaW5EnS"
      },
      "source": [
        "# Spotify"
      ]
    },
    {
      "cell_type": "code",
      "metadata": {
        "id": "MFuUqoU2U-t2"
      },
      "source": [
        ""
      ],
      "execution_count": null,
      "outputs": []
    },
    {
      "cell_type": "code",
      "metadata": {
        "colab": {
          "base_uri": "https://localhost:8080/"
        },
        "id": "-FYrRGlo5Grn",
        "outputId": "b6721257-4049-493b-b530-c3758ff37980"
      },
      "source": [
        "!pip install spotipy\n",
        "import pandas as pd\n",
        "import spotipy\n",
        "from spotipy.oauth2 import SpotifyClientCredentials\n",
        "import json\n",
        "import time\n",
        "import spotipy.util as util\n",
        "import matplotlib as mpl\n",
        "import matplotlib.pyplot as plt\n",
        "import numpy as np\n",
        "\n",
        "def getConnected():\n",
        "    client_id = '6f9cc6cfd8ca46fca9a3c287052ba247'\n",
        "    client_secret = 'fc3d2e6bca984d35a632d3fb937743e1'\n",
        "    client_credentials_manager = spotipy.oauth2.SpotifyClientCredentials(client_id, client_secret)\n",
        "    spotify = spotipy.Spotify(client_credentials_manager=client_credentials_manager)\n",
        "\n",
        "    client_credentials_manager = SpotifyClientCredentials(client_id, client_secret)\n",
        "    return spotipy.Spotify(client_credentials_manager=client_credentials_manager)\n",
        "\n",
        "\n",
        "def getPlaylistSong(playlist_id):\n",
        "    sp = getConnected()\n",
        "    track_ids = []\n",
        "    playlist = sp.playlist(playlist_id)\n",
        "    for item in playlist['tracks']['items']:\n",
        "        track = item['track']\n",
        "        track_ids.append(track['id'])\n",
        "    return track_ids\n",
        "\n",
        "def getTrackFeatures(id):\n",
        "    sp = getConnected()\n",
        "    meta = sp.track(id)\n",
        "    features = sp.audio_features(id)\n",
        "\n",
        "    name = meta['name']\n",
        "    album = meta['album']['name']\n",
        "    artist = meta['album']['artists'][0]['name']\n",
        "    release_date = meta['album']['release_date']\n",
        "    length = meta['duration_ms']\n",
        "    popularity = meta['popularity']\n",
        "    key = features[0]['key']\n",
        "    mode = features[0]['mode']\n",
        "    danceability = features[0]['danceability']\n",
        "    acousticness = features[0]['acousticness']\n",
        "    energy = features[0]['energy']\n",
        "    instrumentalness = features[0]['instrumentalness']\n",
        "    liveness = features[0]['liveness']\n",
        "    loudness = features[0]['loudness']\n",
        "    speechiness = features[0]['speechiness']\n",
        "    tempo = features[0]['tempo']\n",
        "    time_signature = features[0]['time_signature']\n",
        "    valence = features[0]['valence']\n",
        "\n",
        "    track = [name, album, artist, release_date, length, popularity, key, mode, danceability, acousticness, energy, instrumentalness, liveness, loudness, speechiness, tempo, time_signature, valence]\n",
        "    return track\n",
        "\n",
        "def getKey(id):\n",
        "    sp = getConnected()\n",
        "    meta = sp.track(id)\n",
        "    features = sp.audio_features(id)\n",
        "\n",
        "    name = meta['name']\n",
        "    album = meta['album']['name']\n",
        "    artist = meta['album']['artists'][0]['name']\n",
        "    key = features[0]['key']\n",
        "    mode = features[0]['mode']\n",
        "\n",
        "    track = [key, mode]\n",
        "    return track\n",
        "\n",
        "def getTrackFeatures(id):\n",
        "    sp = getConnected()\n",
        "    meta = sp.track(id)\n",
        "    features = sp.audio_features(id)\n",
        "\n",
        "    name = meta['name']\n",
        "    album = meta['album']['name']\n",
        "    artist = meta['album']['artists'][0]['name']\n",
        "    release_date = meta['album']['release_date']\n",
        "    length = meta['duration_ms']\n",
        "    popularity = meta['popularity']\n",
        "    key = features[0]['key']\n",
        "    mode = features[0]['mode']\n",
        "\n",
        "    track = [name, album, artist, release_date, length, popularity, key, mode, danceability, acousticness, energy, instrumentalness, liveness, loudness, speechiness, tempo, time_signature, valence]\n",
        "    return track\n",
        "\n",
        "def getSongDf(track_ids):\n",
        "    sp = getConnected()\n",
        "    tracks = []\n",
        "    for track_id in track_ids:\n",
        "        time.sleep(0.5)\n",
        "        track = getTrackFeatures(track_id)\n",
        "        tracks.append(track)\n",
        "    df = pd.DataFrame(tracks, columns = ['name', 'album', 'artist', 'release_date', 'length', 'popularity', 'key', 'mode', 'danceability', 'acousticness', 'energy', 'instrumentalness', 'liveness', 'loudness', 'speechiness', 'tempo', 'time_signature', 'valence'])\n",
        "    return df\n"
      ],
      "execution_count": null,
      "outputs": [
        {
          "output_type": "stream",
          "name": "stdout",
          "text": [
            "Requirement already satisfied: spotipy in /usr/local/lib/python3.7/dist-packages (2.19.0)\n",
            "Requirement already satisfied: requests>=2.25.0 in /usr/local/lib/python3.7/dist-packages (from spotipy) (2.26.0)\n",
            "Requirement already satisfied: urllib3>=1.26.0 in /usr/local/lib/python3.7/dist-packages (from spotipy) (1.26.7)\n",
            "Requirement already satisfied: six>=1.15.0 in /usr/local/lib/python3.7/dist-packages (from spotipy) (1.15.0)\n",
            "Requirement already satisfied: idna<4,>=2.5 in /usr/local/lib/python3.7/dist-packages (from requests>=2.25.0->spotipy) (2.10)\n",
            "Requirement already satisfied: charset-normalizer~=2.0.0 in /usr/local/lib/python3.7/dist-packages (from requests>=2.25.0->spotipy) (2.0.7)\n",
            "Requirement already satisfied: certifi>=2017.4.17 in /usr/local/lib/python3.7/dist-packages (from requests>=2.25.0->spotipy) (2021.5.30)\n"
          ]
        }
      ]
    },
    {
      "cell_type": "code",
      "metadata": {
        "id": "XRjQ9G095cCI"
      },
      "source": [
        "sp = getConnected()\n"
      ],
      "execution_count": null,
      "outputs": []
    },
    {
      "cell_type": "code",
      "metadata": {
        "colab": {
          "base_uri": "https://localhost:8080/"
        },
        "id": "qvcsHHlJ7HyN",
        "outputId": "5a601f7b-7869-41a5-f3a4-157ed580afc4"
      },
      "source": [
        "res = sp.search(artist + ' ' + song, limit=3, offset=0, type='track',market=None)\n",
        "my_song = pd.DataFrame.from_dict(res[\"tracks\"][\"items\"])\n",
        "id = [my_song['id'][0]][0]\n",
        "getKey(id)"
      ],
      "execution_count": null,
      "outputs": [
        {
          "output_type": "execute_result",
          "data": {
            "text/plain": [
              "[5, 0]"
            ]
          },
          "metadata": {},
          "execution_count": 116
        }
      ]
    },
    {
      "cell_type": "code",
      "metadata": {
        "colab": {
          "base_uri": "https://localhost:8080/"
        },
        "id": "3TzjIWMx8P-T",
        "outputId": "300452e6-0063-4f1e-f0e2-4b3dfabe509f"
      },
      "source": [
        "id"
      ],
      "execution_count": null,
      "outputs": [
        {
          "output_type": "execute_result",
          "data": {
            "text/plain": [
              "['1RsW5svUAwAPNdmFmcNKaa']"
            ]
          },
          "metadata": {},
          "execution_count": 115
        }
      ]
    },
    {
      "cell_type": "code",
      "metadata": {
        "colab": {
          "base_uri": "https://localhost:8080/",
          "height": 417
        },
        "id": "0-KjBku19qZT",
        "outputId": "1278549c-c581-430c-de22-61fa3fc6d14d"
      },
      "source": [
        "df['key']=getKey(id)[0]\n",
        "df['mode']=getKey(id)[1]\n",
        "df"
      ],
      "execution_count": null,
      "outputs": [
        {
          "output_type": "execute_result",
          "data": {
            "text/html": [
              "<div>\n",
              "<style scoped>\n",
              "    .dataframe tbody tr th:only-of-type {\n",
              "        vertical-align: middle;\n",
              "    }\n",
              "\n",
              "    .dataframe tbody tr th {\n",
              "        vertical-align: top;\n",
              "    }\n",
              "\n",
              "    .dataframe thead th {\n",
              "        text-align: right;\n",
              "    }\n",
              "</style>\n",
              "<table border=\"1\" class=\"dataframe\">\n",
              "  <thead>\n",
              "    <tr style=\"text-align: right;\">\n",
              "      <th></th>\n",
              "      <th>chord_name</th>\n",
              "      <th>song</th>\n",
              "      <th>root</th>\n",
              "      <th>app</th>\n",
              "      <th>vulgar</th>\n",
              "      <th>key</th>\n",
              "      <th>mode</th>\n",
              "    </tr>\n",
              "  </thead>\n",
              "  <tbody>\n",
              "    <tr>\n",
              "      <th>0</th>\n",
              "      <td>Db</td>\n",
              "      <td>Ain't Nobody Know</td>\n",
              "      <td>1</td>\n",
              "      <td></td>\n",
              "      <td></td>\n",
              "      <td>5</td>\n",
              "      <td>0</td>\n",
              "    </tr>\n",
              "    <tr>\n",
              "      <th>1</th>\n",
              "      <td>C7alt</td>\n",
              "      <td>Ain't Nobody Know</td>\n",
              "      <td>0</td>\n",
              "      <td>7alt</td>\n",
              "      <td></td>\n",
              "      <td>5</td>\n",
              "      <td>0</td>\n",
              "    </tr>\n",
              "    <tr>\n",
              "      <th>2</th>\n",
              "      <td>Fm7</td>\n",
              "      <td>Ain't Nobody Know</td>\n",
              "      <td>5</td>\n",
              "      <td>m7</td>\n",
              "      <td></td>\n",
              "      <td>5</td>\n",
              "      <td>0</td>\n",
              "    </tr>\n",
              "    <tr>\n",
              "      <th>3</th>\n",
              "      <td>Ab</td>\n",
              "      <td>Ain't Nobody Know</td>\n",
              "      <td>8</td>\n",
              "      <td></td>\n",
              "      <td></td>\n",
              "      <td>5</td>\n",
              "      <td>0</td>\n",
              "    </tr>\n",
              "    <tr>\n",
              "      <th>4</th>\n",
              "      <td>Db</td>\n",
              "      <td>Ain't Nobody Know</td>\n",
              "      <td>1</td>\n",
              "      <td></td>\n",
              "      <td></td>\n",
              "      <td>5</td>\n",
              "      <td>0</td>\n",
              "    </tr>\n",
              "    <tr>\n",
              "      <th>...</th>\n",
              "      <td>...</td>\n",
              "      <td>...</td>\n",
              "      <td>...</td>\n",
              "      <td>...</td>\n",
              "      <td>...</td>\n",
              "      <td>...</td>\n",
              "      <td>...</td>\n",
              "    </tr>\n",
              "    <tr>\n",
              "      <th>93</th>\n",
              "      <td>Fm7</td>\n",
              "      <td>Ain't Nobody Know</td>\n",
              "      <td>5</td>\n",
              "      <td>m7</td>\n",
              "      <td></td>\n",
              "      <td>5</td>\n",
              "      <td>0</td>\n",
              "    </tr>\n",
              "    <tr>\n",
              "      <th>94</th>\n",
              "      <td>Bbm9</td>\n",
              "      <td>Ain't Nobody Know</td>\n",
              "      <td>10</td>\n",
              "      <td>m9</td>\n",
              "      <td></td>\n",
              "      <td>5</td>\n",
              "      <td>0</td>\n",
              "    </tr>\n",
              "    <tr>\n",
              "      <th>95</th>\n",
              "      <td>C7alt</td>\n",
              "      <td>Ain't Nobody Know</td>\n",
              "      <td>0</td>\n",
              "      <td>7alt</td>\n",
              "      <td></td>\n",
              "      <td>5</td>\n",
              "      <td>0</td>\n",
              "    </tr>\n",
              "    <tr>\n",
              "      <th>96</th>\n",
              "      <td>Fm7</td>\n",
              "      <td>Ain't Nobody Know</td>\n",
              "      <td>5</td>\n",
              "      <td>m7</td>\n",
              "      <td></td>\n",
              "      <td>5</td>\n",
              "      <td>0</td>\n",
              "    </tr>\n",
              "    <tr>\n",
              "      <th>97</th>\n",
              "      <td>Ab</td>\n",
              "      <td>Ain't Nobody Know</td>\n",
              "      <td>8</td>\n",
              "      <td></td>\n",
              "      <td></td>\n",
              "      <td>5</td>\n",
              "      <td>0</td>\n",
              "    </tr>\n",
              "  </tbody>\n",
              "</table>\n",
              "<p>98 rows × 7 columns</p>\n",
              "</div>"
            ],
            "text/plain": [
              "   chord_name               song root   app vulgar  key  mode\n",
              "0          Db  Ain't Nobody Know    1                 5     0\n",
              "1       C7alt  Ain't Nobody Know    0  7alt           5     0\n",
              "2         Fm7  Ain't Nobody Know    5    m7           5     0\n",
              "3          Ab  Ain't Nobody Know    8                 5     0\n",
              "4          Db  Ain't Nobody Know    1                 5     0\n",
              "..        ...                ...  ...   ...    ...  ...   ...\n",
              "93        Fm7  Ain't Nobody Know    5    m7           5     0\n",
              "94       Bbm9  Ain't Nobody Know   10    m9           5     0\n",
              "95      C7alt  Ain't Nobody Know    0  7alt           5     0\n",
              "96        Fm7  Ain't Nobody Know    5    m7           5     0\n",
              "97         Ab  Ain't Nobody Know    8                 5     0\n",
              "\n",
              "[98 rows x 7 columns]"
            ]
          },
          "metadata": {},
          "execution_count": 117
        }
      ]
    },
    {
      "cell_type": "code",
      "metadata": {
        "colab": {
          "base_uri": "https://localhost:8080/",
          "height": 150
        },
        "id": "-7s6TSTO9xXU",
        "outputId": "ef4d8900-0eb9-478e-f3e0-531b8dc6d206"
      },
      "source": [
        "my_song"
      ],
      "execution_count": null,
      "outputs": [
        {
          "output_type": "execute_result",
          "data": {
            "text/html": [
              "<div>\n",
              "<style scoped>\n",
              "    .dataframe tbody tr th:only-of-type {\n",
              "        vertical-align: middle;\n",
              "    }\n",
              "\n",
              "    .dataframe tbody tr th {\n",
              "        vertical-align: top;\n",
              "    }\n",
              "\n",
              "    .dataframe thead th {\n",
              "        text-align: right;\n",
              "    }\n",
              "</style>\n",
              "<table border=\"1\" class=\"dataframe\">\n",
              "  <thead>\n",
              "    <tr style=\"text-align: right;\">\n",
              "      <th></th>\n",
              "      <th>album</th>\n",
              "      <th>artists</th>\n",
              "      <th>available_markets</th>\n",
              "      <th>disc_number</th>\n",
              "      <th>duration_ms</th>\n",
              "      <th>explicit</th>\n",
              "      <th>external_ids</th>\n",
              "      <th>external_urls</th>\n",
              "      <th>href</th>\n",
              "      <th>id</th>\n",
              "      <th>is_local</th>\n",
              "      <th>name</th>\n",
              "      <th>popularity</th>\n",
              "      <th>preview_url</th>\n",
              "      <th>track_number</th>\n",
              "      <th>type</th>\n",
              "      <th>uri</th>\n",
              "    </tr>\n",
              "  </thead>\n",
              "  <tbody>\n",
              "    <tr>\n",
              "      <th>0</th>\n",
              "      <td>{'album_type': 'single', 'artists': [{'externa...</td>\n",
              "      <td>[{'external_urls': {'spotify': 'https://open.s...</td>\n",
              "      <td>[AD, AE, AG, AL, AM, AO, AR, AT, AU, AZ, BA, B...</td>\n",
              "      <td>1</td>\n",
              "      <td>211533</td>\n",
              "      <td>False</td>\n",
              "      <td>{'isrc': 'JPVI01903472'}</td>\n",
              "      <td>{'spotify': 'https://open.spotify.com/track/1R...</td>\n",
              "      <td>https://api.spotify.com/v1/tracks/1RsW5svUAwAP...</td>\n",
              "      <td>1RsW5svUAwAPNdmFmcNKaa</td>\n",
              "      <td>False</td>\n",
              "      <td>Ain't Nobody Know</td>\n",
              "      <td>40</td>\n",
              "      <td>https://p.scdn.co/mp3-preview/5b0fa6d754eb8c9a...</td>\n",
              "      <td>3</td>\n",
              "      <td>track</td>\n",
              "      <td>spotify:track:1RsW5svUAwAPNdmFmcNKaa</td>\n",
              "    </tr>\n",
              "  </tbody>\n",
              "</table>\n",
              "</div>"
            ],
            "text/plain": [
              "                                               album  ...                                   uri\n",
              "0  {'album_type': 'single', 'artists': [{'externa...  ...  spotify:track:1RsW5svUAwAPNdmFmcNKaa\n",
              "\n",
              "[1 rows x 17 columns]"
            ]
          },
          "metadata": {},
          "execution_count": 107
        }
      ]
    },
    {
      "cell_type": "code",
      "metadata": {
        "colab": {
          "base_uri": "https://localhost:8080/"
        },
        "id": "HsKeI_7r_LJ2",
        "outputId": "313e4ad4-48ba-435b-a177-822d73ea989e"
      },
      "source": [
        "sp.audio_features(my_song['id'][0])[0]"
      ],
      "execution_count": null,
      "outputs": [
        {
          "output_type": "execute_result",
          "data": {
            "text/plain": [
              "{'acousticness': 0.538,\n",
              " 'analysis_url': 'https://api.spotify.com/v1/audio-analysis/1RsW5svUAwAPNdmFmcNKaa',\n",
              " 'danceability': 0.875,\n",
              " 'duration_ms': 211533,\n",
              " 'energy': 0.35,\n",
              " 'id': '1RsW5svUAwAPNdmFmcNKaa',\n",
              " 'instrumentalness': 9.44e-06,\n",
              " 'key': 5,\n",
              " 'liveness': 0.102,\n",
              " 'loudness': -5.826,\n",
              " 'mode': 0,\n",
              " 'speechiness': 0.0626,\n",
              " 'tempo': 120.0,\n",
              " 'time_signature': 4,\n",
              " 'track_href': 'https://api.spotify.com/v1/tracks/1RsW5svUAwAPNdmFmcNKaa',\n",
              " 'type': 'audio_features',\n",
              " 'uri': 'spotify:track:1RsW5svUAwAPNdmFmcNKaa',\n",
              " 'valence': 0.565}"
            ]
          },
          "metadata": {},
          "execution_count": 108
        }
      ]
    },
    {
      "cell_type": "code",
      "metadata": {
        "id": "-gxzEnGZ_a6n"
      },
      "source": [
        ""
      ],
      "execution_count": null,
      "outputs": []
    },
    {
      "cell_type": "markdown",
      "metadata": {
        "id": "DIjZ9FuNVAhm"
      },
      "source": [
        "# merge"
      ]
    },
    {
      "cell_type": "code",
      "metadata": {
        "colab": {
          "base_uri": "https://localhost:8080/"
        },
        "id": "WhDnkYKhVZ3M",
        "outputId": "4f3ee26e-0fe3-4946-ce64-47a17a564634"
      },
      "source": [
        "!pip install spotipy\n",
        "import pandas as pd\n",
        "import spotipy\n",
        "from spotipy.oauth2 import SpotifyClientCredentials\n",
        "import json\n",
        "import time\n",
        "import spotipy.util as util\n",
        "import matplotlib as mpl\n",
        "import matplotlib.pyplot as plt\n",
        "import numpy as np\n",
        "import re\n",
        "\n",
        "def getConnected():\n",
        "    client_id = '6f9cc6cfd8ca46fca9a3c287052ba247'\n",
        "    client_secret = 'fc3d2e6bca984d35a632d3fb937743e1'\n",
        "    client_credentials_manager = spotipy.oauth2.SpotifyClientCredentials(client_id, client_secret)\n",
        "    spotify = spotipy.Spotify(client_credentials_manager=client_credentials_manager)\n",
        "\n",
        "    client_credentials_manager = SpotifyClientCredentials(client_id, client_secret)\n",
        "    return spotipy.Spotify(client_credentials_manager=client_credentials_manager)\n",
        "\n",
        "\n",
        "\n",
        "def getKey(sp,id):\n",
        "    meta = sp.track(id)\n",
        "    features = sp.audio_features(id)\n",
        "\n",
        "    name = meta['name']\n",
        "    album = meta['album']['name']\n",
        "    artist = meta['album']['artists'][0]['name']\n",
        "    key = features[0]['key']\n",
        "    mode = features[0]['mode']\n",
        "\n",
        "    track = pd.DataFrame([[name,artist,album,key,mode]],columns=['song_spotify','artist_spotify','album_spotify','key','mode'])\n",
        "    return track"
      ],
      "execution_count": null,
      "outputs": [
        {
          "output_type": "stream",
          "name": "stdout",
          "text": [
            "Requirement already satisfied: spotipy in /usr/local/lib/python3.7/dist-packages (2.19.0)\n",
            "Requirement already satisfied: six>=1.15.0 in /usr/local/lib/python3.7/dist-packages (from spotipy) (1.15.0)\n",
            "Requirement already satisfied: requests>=2.25.0 in /usr/local/lib/python3.7/dist-packages (from spotipy) (2.26.0)\n",
            "Requirement already satisfied: urllib3>=1.26.0 in /usr/local/lib/python3.7/dist-packages (from spotipy) (1.26.7)\n",
            "Requirement already satisfied: idna<4,>=2.5 in /usr/local/lib/python3.7/dist-packages (from requests>=2.25.0->spotipy) (2.10)\n",
            "Requirement already satisfied: certifi>=2017.4.17 in /usr/local/lib/python3.7/dist-packages (from requests>=2.25.0->spotipy) (2021.5.30)\n",
            "Requirement already satisfied: charset-normalizer~=2.0.0 in /usr/local/lib/python3.7/dist-packages (from requests>=2.25.0->spotipy) (2.0.7)\n"
          ]
        }
      ]
    },
    {
      "cell_type": "code",
      "metadata": {
        "id": "-MBmZYv8VF55"
      },
      "source": [
        "from bs4 import BeautifulSoup\n",
        "import requests\n",
        "import pandas as pd\n",
        "\n",
        "ua = 'Mozilla/5.0 (Windows NT 6.1; Win64; x64; rv:47.0) Gecko/20100101 Firefox/47.0'\n",
        "headers = {'User-Agent': ua}\n",
        "edit_url = 'https://ja.chordwiki.org/wiki.cgi?c=edit&t='"
      ],
      "execution_count": null,
      "outputs": []
    },
    {
      "cell_type": "code",
      "metadata": {
        "id": "YyFjwXMSVAFl"
      },
      "source": [
        "dic = {\n",
        "    '星野源':'https://seesaawiki.jp/w/chordwiki/d/%c0%b1%cc%ee%b8%bb'\n",
        "}"
      ],
      "execution_count": null,
      "outputs": []
    },
    {
      "cell_type": "code",
      "metadata": {
        "id": "jOLNdzQlWbrl"
      },
      "source": [
        "dc={\n",
        "    'C':0,\n",
        "    'C#':1,\n",
        "    'Db':1,\n",
        "    'D':2,\n",
        "    'D#':3,\n",
        "    'Eb':3,\n",
        "    'E':4,\n",
        "    'E#':5,\n",
        "    'Fb':4,\n",
        "    'F':5,\n",
        "    'F#':6,\n",
        "    'Gb':6,\n",
        "    'G':7,\n",
        "    'G#':8,\n",
        "    'Ab':8,\n",
        "    'A':9,\n",
        "    'A#':10,\n",
        "    'Bb':10,\n",
        "    'B':11,\n",
        "    'B#':0,\n",
        "    'Cb':11,\n",
        "}"
      ],
      "execution_count": null,
      "outputs": []
    },
    {
      "cell_type": "markdown",
      "metadata": {
        "id": "AkxFaLjDVhf2"
      },
      "source": [
        "## chord"
      ]
    },
    {
      "cell_type": "code",
      "metadata": {
        "colab": {
          "base_uri": "https://localhost:8080/"
        },
        "id": "aS9s4lyVVMbf",
        "outputId": "9777fe59-982b-44e2-e756-db6f26359531"
      },
      "source": [
        "for key in dic.keys():\n",
        "    artist = key\n",
        "    url = dic[key]\n",
        "    r = requests.get(url,headers=headers)\n",
        "    soup = BeautifulSoup(r.text, \"lxml\")\n",
        "    links = soup.find_all('a', class_='outlink')\n",
        "    print(links)\n",
        "    n=0\n",
        "    for link in links :\n",
        "        n=n+1\n",
        "        url2 = link.get('href')\n",
        "        title = link.get_text()\n",
        "        r2 = requests.get(url2)\n",
        "        soup2 = BeautifulSoup(r2.text, \"lxml\")\n",
        "        print(title)\n",
        "        url2_split = url2.split('/')[-1]\n",
        "        url3 = edit_url + url2_split\n",
        "        r3 = requests.get(url3)\n",
        "        soup3 = BeautifulSoup(r3.text, \"lxml\")\n",
        "        try :\n",
        "            sen = soup3.textarea.text\n",
        "        except Exception as e:\n",
        "            continue\n",
        "        sen.split('[')[-1].split(']')[0]\n",
        "        tako = '\\\\[.+?\\\\]'\n",
        "        lis = re.findall(tako,sen)\n",
        "        lis2 = []\n",
        "        song = title\n",
        "\n",
        "        for item in lis: \n",
        "            item = item.replace(\"[\",\"\")\n",
        "            item = item.replace(\"]\",\"\")\n",
        "            item = item.replace(\"(\",\"\")\n",
        "            item = item.replace(\")\",\"\")\n",
        "            lis2.append(item)\n",
        "\n",
        "        df = pd.DataFrame(lis2,columns = ['chord_name'])\n",
        "        df['song'] = song\n",
        "        df['root'] = ''\n",
        "        df['app'] =''\n",
        "        df['vulgar']=''\n",
        "        for index,row in df.iterrows():\n",
        "            i = 0\n",
        "            if row[0][0] in dc: #chordの1文字目にA-Gが含まれているか\n",
        "                if len(row[i]) > 1: #chordは二文字以上か\n",
        "                    if row[0][i+1] in ['#','b']: #二文字以降は#,♭か\n",
        "                        ch =  row[0][i] + row[0][i+1] #ルート＋記号\n",
        "                        row[2] = dc[ch] #ルートを数値変換して格納\n",
        "                        row[3] = row[0][i+2:].split('/')[0] #ルート以外の部分を格納\n",
        "                        if '/' in row[0][i+2:]:\n",
        "                            row[4] = row[0][i+2:].split('/')[1] #ルート以外の部分を格納\n",
        "                    else : # #,bがない場合\n",
        "                        ch = row[0][i] \n",
        "                        row[2] = dc[ch]\n",
        "                        row[3] = row[0][i+1:].split('/')[0]\n",
        "                        if '/' in row[0][i+1]:\n",
        "                            row[4] = row[0][i+1:].split('/')[1] #ルート以外の部分を格納\n",
        "                else :#chordが1文字の場合\n",
        "                    ch = row[0][i]\n",
        "                    row[2] = dc[ch]\n",
        "                    row[3] = row[0][i+1:]\n",
        "            else : \n",
        "                pass\n",
        "                #df.drop(index,inplace=True)\n",
        "                print(index)\n",
        "        df['artist'] = key\n",
        "        if n==1:\n",
        "            df_save = df\n",
        "            \n",
        "        else :\n",
        "            print(df_save)\n",
        "            print(df)\n",
        "            df_save=pd.concat([df_save,df])"
      ],
      "execution_count": null,
      "outputs": [
        {
          "output_type": "stream",
          "name": "stdout",
          "text": [
            "[]\n"
          ]
        }
      ]
    },
    {
      "cell_type": "code",
      "metadata": {
        "colab": {
          "base_uri": "https://localhost:8080/",
          "height": 171
        },
        "id": "rqJPz93PV1Wd",
        "outputId": "43a32e3b-a9cd-4043-c8b1-b6991613b218"
      },
      "source": [
        "df_save"
      ],
      "execution_count": null,
      "outputs": [
        {
          "output_type": "error",
          "ename": "NameError",
          "evalue": "ignored",
          "traceback": [
            "\u001b[0;31m---------------------------------------------------------------------------\u001b[0m",
            "\u001b[0;31mNameError\u001b[0m                                 Traceback (most recent call last)",
            "\u001b[0;32m<ipython-input-6-6fb677ce6776>\u001b[0m in \u001b[0;36m<module>\u001b[0;34m()\u001b[0m\n\u001b[0;32m----> 1\u001b[0;31m \u001b[0mdf_save\u001b[0m\u001b[0;34m\u001b[0m\u001b[0;34m\u001b[0m\u001b[0m\n\u001b[0m",
            "\u001b[0;31mNameError\u001b[0m: name 'df_save' is not defined"
          ]
        }
      ]
    },
    {
      "cell_type": "code",
      "metadata": {
        "colab": {
          "base_uri": "https://localhost:8080/"
        },
        "id": "z5m4z3V5YRr2",
        "outputId": "f4ab8964-a615-469d-9c9a-aa25863e4edc"
      },
      "source": [
        "df_save['song'].unique()"
      ],
      "execution_count": null,
      "outputs": [
        {
          "output_type": "execute_result",
          "data": {
            "text/plain": [
              "array(['アイデア', 'ある車掌', 'Week End', '歌を歌うときは', 'うちで踊ろう',\n",
              "       \"Ain't Nobody Know\", 'キッチン', 'グー', 'くだらないの中に', 'Crazy Crazy',\n",
              "       'Get a Feel', '恋', '子供', 'Continues', '桜の森', 'SUN', '地獄でなぜ悪い',\n",
              "       '知らない', 'スカート', 'ストーブ', 'Snow Men', '次は何に産まれましょうか', '電波塔', '時よ',\n",
              "       'ドラえもん', 'バイト', 'ばかのうた', '化物', 'Hello Song', '肌', 'Family Song',\n",
              "       'フィルム', 'Friend Ship', 'Pop Virus'], dtype=object)"
            ]
          },
          "metadata": {},
          "execution_count": 14
        }
      ]
    },
    {
      "cell_type": "code",
      "metadata": {
        "id": "u5o0-I7NcN0O"
      },
      "source": [
        ""
      ],
      "execution_count": null,
      "outputs": []
    },
    {
      "cell_type": "code",
      "metadata": {
        "id": "Fz703S5WaoAn"
      },
      "source": [
        "import pickle\n",
        "with open('df_chord.pickle', 'wb') as f:\n",
        "    pickle.dump(df_save, f)"
      ],
      "execution_count": null,
      "outputs": []
    },
    {
      "cell_type": "code",
      "metadata": {
        "id": "DZTJVBcGbXVD"
      },
      "source": [
        ""
      ],
      "execution_count": null,
      "outputs": []
    },
    {
      "cell_type": "markdown",
      "metadata": {
        "id": "GSDWF8KIbfa_"
      },
      "source": [
        "## spotify"
      ]
    },
    {
      "cell_type": "code",
      "metadata": {
        "colab": {
          "base_uri": "https://localhost:8080/",
          "height": 417
        },
        "id": "__iKTakQbiCX",
        "outputId": "5de4dbd3-5504-4d9a-eb13-dd6d6a448899"
      },
      "source": [
        "import pickle\n",
        "with open('df_chord.pickle', 'rb') as f:\n",
        "    df_save = pickle.load(f)\n",
        "df_save"
      ],
      "execution_count": null,
      "outputs": [
        {
          "output_type": "execute_result",
          "data": {
            "text/html": [
              "<div>\n",
              "<style scoped>\n",
              "    .dataframe tbody tr th:only-of-type {\n",
              "        vertical-align: middle;\n",
              "    }\n",
              "\n",
              "    .dataframe tbody tr th {\n",
              "        vertical-align: top;\n",
              "    }\n",
              "\n",
              "    .dataframe thead th {\n",
              "        text-align: right;\n",
              "    }\n",
              "</style>\n",
              "<table border=\"1\" class=\"dataframe\">\n",
              "  <thead>\n",
              "    <tr style=\"text-align: right;\">\n",
              "      <th></th>\n",
              "      <th>chord_name</th>\n",
              "      <th>song</th>\n",
              "      <th>root</th>\n",
              "      <th>app</th>\n",
              "      <th>vulgar</th>\n",
              "    </tr>\n",
              "  </thead>\n",
              "  <tbody>\n",
              "    <tr>\n",
              "      <th>0</th>\n",
              "      <td>BbM7</td>\n",
              "      <td>アイデア</td>\n",
              "      <td>10</td>\n",
              "      <td>M7</td>\n",
              "      <td></td>\n",
              "    </tr>\n",
              "    <tr>\n",
              "      <th>1</th>\n",
              "      <td>F/A</td>\n",
              "      <td>アイデア</td>\n",
              "      <td>5</td>\n",
              "      <td></td>\n",
              "      <td>A</td>\n",
              "    </tr>\n",
              "    <tr>\n",
              "      <th>2</th>\n",
              "      <td>C</td>\n",
              "      <td>アイデア</td>\n",
              "      <td>0</td>\n",
              "      <td></td>\n",
              "      <td></td>\n",
              "    </tr>\n",
              "    <tr>\n",
              "      <th>3</th>\n",
              "      <td>C#dim</td>\n",
              "      <td>アイデア</td>\n",
              "      <td>1</td>\n",
              "      <td>dim</td>\n",
              "      <td></td>\n",
              "    </tr>\n",
              "    <tr>\n",
              "      <th>4</th>\n",
              "      <td>Dm</td>\n",
              "      <td>アイデア</td>\n",
              "      <td>2</td>\n",
              "      <td>m</td>\n",
              "      <td></td>\n",
              "    </tr>\n",
              "    <tr>\n",
              "      <th>...</th>\n",
              "      <td>...</td>\n",
              "      <td>...</td>\n",
              "      <td>...</td>\n",
              "      <td>...</td>\n",
              "      <td>...</td>\n",
              "    </tr>\n",
              "    <tr>\n",
              "      <th>157</th>\n",
              "      <td>DM7</td>\n",
              "      <td>Pop Virus</td>\n",
              "      <td>2</td>\n",
              "      <td>M7</td>\n",
              "      <td></td>\n",
              "    </tr>\n",
              "    <tr>\n",
              "      <th>158</th>\n",
              "      <td>C#m7</td>\n",
              "      <td>Pop Virus</td>\n",
              "      <td>1</td>\n",
              "      <td>m7</td>\n",
              "      <td></td>\n",
              "    </tr>\n",
              "    <tr>\n",
              "      <th>159</th>\n",
              "      <td>Bm7</td>\n",
              "      <td>Pop Virus</td>\n",
              "      <td>11</td>\n",
              "      <td>m7</td>\n",
              "      <td></td>\n",
              "    </tr>\n",
              "    <tr>\n",
              "      <th>160</th>\n",
              "      <td>Bm7/E</td>\n",
              "      <td>Pop Virus</td>\n",
              "      <td>11</td>\n",
              "      <td>m7</td>\n",
              "      <td></td>\n",
              "    </tr>\n",
              "    <tr>\n",
              "      <th>161</th>\n",
              "      <td>Aadd9</td>\n",
              "      <td>Pop Virus</td>\n",
              "      <td>9</td>\n",
              "      <td>add9</td>\n",
              "      <td></td>\n",
              "    </tr>\n",
              "  </tbody>\n",
              "</table>\n",
              "<p>7566 rows × 5 columns</p>\n",
              "</div>"
            ],
            "text/plain": [
              "    chord_name       song root   app vulgar\n",
              "0         BbM7       アイデア   10    M7       \n",
              "1          F/A       アイデア    5            A\n",
              "2            C       アイデア    0             \n",
              "3        C#dim       アイデア    1   dim       \n",
              "4           Dm       アイデア    2     m       \n",
              "..         ...        ...  ...   ...    ...\n",
              "157        DM7  Pop Virus    2    M7       \n",
              "158       C#m7  Pop Virus    1    m7       \n",
              "159        Bm7  Pop Virus   11    m7       \n",
              "160      Bm7/E  Pop Virus   11    m7       \n",
              "161      Aadd9  Pop Virus    9  add9       \n",
              "\n",
              "[7566 rows x 5 columns]"
            ]
          },
          "metadata": {},
          "execution_count": 8
        }
      ]
    },
    {
      "cell_type": "code",
      "metadata": {
        "id": "562ZAikJcvpd"
      },
      "source": [
        ""
      ],
      "execution_count": null,
      "outputs": []
    },
    {
      "cell_type": "code",
      "metadata": {
        "colab": {
          "base_uri": "https://localhost:8080/",
          "height": 389
        },
        "id": "c8XFksk9brEG",
        "outputId": "1f8a3935-08c6-417a-87d9-41ea86aad98a"
      },
      "source": [
        "sp = getConnected()\n",
        "df_songs=df_save[['song','artist']].drop_duplicates().reset_index()[['song','artist']]\n",
        "for i in df_songs.index:\n",
        "    artist = df_songs.loc[i,'artist']\n",
        "    song = df_songs.loc[i,'song']\n",
        "    print(song)\n",
        "    res = sp.search(artist + ' ' + song, limit=3, offset=0, type='track',market=None)\n",
        "    my_song = pd.DataFrame.from_dict(res[\"tracks\"][\"items\"])\n",
        "    try:\n",
        "        id = [my_song['id'][0]][0]\n",
        "    except Exception as e:\n",
        "            continue\n",
        "    df= getKey(sp,id)\n",
        "    df['song']=song\n",
        "    df['artist']=artist\n",
        "    if i == 0:\n",
        "        df_spotify = df\n",
        "    else :\n",
        "        df_spotify = pd.concat([df_spotify,df])"
      ],
      "execution_count": null,
      "outputs": [
        {
          "output_type": "error",
          "ename": "KeyError",
          "evalue": "ignored",
          "traceback": [
            "\u001b[0;31m---------------------------------------------------------------------------\u001b[0m",
            "\u001b[0;31mKeyError\u001b[0m                                  Traceback (most recent call last)",
            "\u001b[0;32m<ipython-input-9-c858ee9ec3f7>\u001b[0m in \u001b[0;36m<module>\u001b[0;34m()\u001b[0m\n\u001b[1;32m      1\u001b[0m \u001b[0msp\u001b[0m \u001b[0;34m=\u001b[0m \u001b[0mgetConnected\u001b[0m\u001b[0;34m(\u001b[0m\u001b[0;34m)\u001b[0m\u001b[0;34m\u001b[0m\u001b[0;34m\u001b[0m\u001b[0m\n\u001b[0;32m----> 2\u001b[0;31m \u001b[0mdf_songs\u001b[0m\u001b[0;34m=\u001b[0m\u001b[0mdf_save\u001b[0m\u001b[0;34m[\u001b[0m\u001b[0;34m[\u001b[0m\u001b[0;34m'song'\u001b[0m\u001b[0;34m,\u001b[0m\u001b[0;34m'artist'\u001b[0m\u001b[0;34m]\u001b[0m\u001b[0;34m]\u001b[0m\u001b[0;34m.\u001b[0m\u001b[0mdrop_duplicates\u001b[0m\u001b[0;34m(\u001b[0m\u001b[0;34m)\u001b[0m\u001b[0;34m.\u001b[0m\u001b[0mreset_index\u001b[0m\u001b[0;34m(\u001b[0m\u001b[0;34m)\u001b[0m\u001b[0;34m[\u001b[0m\u001b[0;34m[\u001b[0m\u001b[0;34m'song'\u001b[0m\u001b[0;34m,\u001b[0m\u001b[0;34m'artist'\u001b[0m\u001b[0;34m]\u001b[0m\u001b[0;34m]\u001b[0m\u001b[0;34m\u001b[0m\u001b[0;34m\u001b[0m\u001b[0m\n\u001b[0m\u001b[1;32m      3\u001b[0m \u001b[0;32mfor\u001b[0m \u001b[0mi\u001b[0m \u001b[0;32min\u001b[0m \u001b[0mdf_songs\u001b[0m\u001b[0;34m.\u001b[0m\u001b[0mindex\u001b[0m\u001b[0;34m:\u001b[0m\u001b[0;34m\u001b[0m\u001b[0;34m\u001b[0m\u001b[0m\n\u001b[1;32m      4\u001b[0m     \u001b[0martist\u001b[0m \u001b[0;34m=\u001b[0m \u001b[0mdf_songs\u001b[0m\u001b[0;34m.\u001b[0m\u001b[0mloc\u001b[0m\u001b[0;34m[\u001b[0m\u001b[0mi\u001b[0m\u001b[0;34m,\u001b[0m\u001b[0;34m'artist'\u001b[0m\u001b[0;34m]\u001b[0m\u001b[0;34m\u001b[0m\u001b[0;34m\u001b[0m\u001b[0m\n\u001b[1;32m      5\u001b[0m     \u001b[0msong\u001b[0m \u001b[0;34m=\u001b[0m \u001b[0mdf_songs\u001b[0m\u001b[0;34m.\u001b[0m\u001b[0mloc\u001b[0m\u001b[0;34m[\u001b[0m\u001b[0mi\u001b[0m\u001b[0;34m,\u001b[0m\u001b[0;34m'song'\u001b[0m\u001b[0;34m]\u001b[0m\u001b[0;34m\u001b[0m\u001b[0;34m\u001b[0m\u001b[0m\n",
            "\u001b[0;32m/usr/local/lib/python3.7/dist-packages/pandas/core/frame.py\u001b[0m in \u001b[0;36m__getitem__\u001b[0;34m(self, key)\u001b[0m\n\u001b[1;32m   2910\u001b[0m             \u001b[0;32mif\u001b[0m \u001b[0mis_iterator\u001b[0m\u001b[0;34m(\u001b[0m\u001b[0mkey\u001b[0m\u001b[0;34m)\u001b[0m\u001b[0;34m:\u001b[0m\u001b[0;34m\u001b[0m\u001b[0;34m\u001b[0m\u001b[0m\n\u001b[1;32m   2911\u001b[0m                 \u001b[0mkey\u001b[0m \u001b[0;34m=\u001b[0m \u001b[0mlist\u001b[0m\u001b[0;34m(\u001b[0m\u001b[0mkey\u001b[0m\u001b[0;34m)\u001b[0m\u001b[0;34m\u001b[0m\u001b[0;34m\u001b[0m\u001b[0m\n\u001b[0;32m-> 2912\u001b[0;31m             \u001b[0mindexer\u001b[0m \u001b[0;34m=\u001b[0m \u001b[0mself\u001b[0m\u001b[0;34m.\u001b[0m\u001b[0mloc\u001b[0m\u001b[0;34m.\u001b[0m\u001b[0m_get_listlike_indexer\u001b[0m\u001b[0;34m(\u001b[0m\u001b[0mkey\u001b[0m\u001b[0;34m,\u001b[0m \u001b[0maxis\u001b[0m\u001b[0;34m=\u001b[0m\u001b[0;36m1\u001b[0m\u001b[0;34m,\u001b[0m \u001b[0mraise_missing\u001b[0m\u001b[0;34m=\u001b[0m\u001b[0;32mTrue\u001b[0m\u001b[0;34m)\u001b[0m\u001b[0;34m[\u001b[0m\u001b[0;36m1\u001b[0m\u001b[0;34m]\u001b[0m\u001b[0;34m\u001b[0m\u001b[0;34m\u001b[0m\u001b[0m\n\u001b[0m\u001b[1;32m   2913\u001b[0m \u001b[0;34m\u001b[0m\u001b[0m\n\u001b[1;32m   2914\u001b[0m         \u001b[0;31m# take() does not accept boolean indexers\u001b[0m\u001b[0;34m\u001b[0m\u001b[0;34m\u001b[0m\u001b[0;34m\u001b[0m\u001b[0m\n",
            "\u001b[0;32m/usr/local/lib/python3.7/dist-packages/pandas/core/indexing.py\u001b[0m in \u001b[0;36m_get_listlike_indexer\u001b[0;34m(self, key, axis, raise_missing)\u001b[0m\n\u001b[1;32m   1252\u001b[0m             \u001b[0mkeyarr\u001b[0m\u001b[0;34m,\u001b[0m \u001b[0mindexer\u001b[0m\u001b[0;34m,\u001b[0m \u001b[0mnew_indexer\u001b[0m \u001b[0;34m=\u001b[0m \u001b[0max\u001b[0m\u001b[0;34m.\u001b[0m\u001b[0m_reindex_non_unique\u001b[0m\u001b[0;34m(\u001b[0m\u001b[0mkeyarr\u001b[0m\u001b[0;34m)\u001b[0m\u001b[0;34m\u001b[0m\u001b[0;34m\u001b[0m\u001b[0m\n\u001b[1;32m   1253\u001b[0m \u001b[0;34m\u001b[0m\u001b[0m\n\u001b[0;32m-> 1254\u001b[0;31m         \u001b[0mself\u001b[0m\u001b[0;34m.\u001b[0m\u001b[0m_validate_read_indexer\u001b[0m\u001b[0;34m(\u001b[0m\u001b[0mkeyarr\u001b[0m\u001b[0;34m,\u001b[0m \u001b[0mindexer\u001b[0m\u001b[0;34m,\u001b[0m \u001b[0maxis\u001b[0m\u001b[0;34m,\u001b[0m \u001b[0mraise_missing\u001b[0m\u001b[0;34m=\u001b[0m\u001b[0mraise_missing\u001b[0m\u001b[0;34m)\u001b[0m\u001b[0;34m\u001b[0m\u001b[0;34m\u001b[0m\u001b[0m\n\u001b[0m\u001b[1;32m   1255\u001b[0m         \u001b[0;32mreturn\u001b[0m \u001b[0mkeyarr\u001b[0m\u001b[0;34m,\u001b[0m \u001b[0mindexer\u001b[0m\u001b[0;34m\u001b[0m\u001b[0;34m\u001b[0m\u001b[0m\n\u001b[1;32m   1256\u001b[0m \u001b[0;34m\u001b[0m\u001b[0m\n",
            "\u001b[0;32m/usr/local/lib/python3.7/dist-packages/pandas/core/indexing.py\u001b[0m in \u001b[0;36m_validate_read_indexer\u001b[0;34m(self, key, indexer, axis, raise_missing)\u001b[0m\n\u001b[1;32m   1302\u001b[0m             \u001b[0;32mif\u001b[0m \u001b[0mraise_missing\u001b[0m\u001b[0;34m:\u001b[0m\u001b[0;34m\u001b[0m\u001b[0;34m\u001b[0m\u001b[0m\n\u001b[1;32m   1303\u001b[0m                 \u001b[0mnot_found\u001b[0m \u001b[0;34m=\u001b[0m \u001b[0mlist\u001b[0m\u001b[0;34m(\u001b[0m\u001b[0mset\u001b[0m\u001b[0;34m(\u001b[0m\u001b[0mkey\u001b[0m\u001b[0;34m)\u001b[0m \u001b[0;34m-\u001b[0m \u001b[0mset\u001b[0m\u001b[0;34m(\u001b[0m\u001b[0max\u001b[0m\u001b[0;34m)\u001b[0m\u001b[0;34m)\u001b[0m\u001b[0;34m\u001b[0m\u001b[0;34m\u001b[0m\u001b[0m\n\u001b[0;32m-> 1304\u001b[0;31m                 \u001b[0;32mraise\u001b[0m \u001b[0mKeyError\u001b[0m\u001b[0;34m(\u001b[0m\u001b[0;34mf\"{not_found} not in index\"\u001b[0m\u001b[0;34m)\u001b[0m\u001b[0;34m\u001b[0m\u001b[0;34m\u001b[0m\u001b[0m\n\u001b[0m\u001b[1;32m   1305\u001b[0m \u001b[0;34m\u001b[0m\u001b[0m\n\u001b[1;32m   1306\u001b[0m             \u001b[0;31m# we skip the warning on Categorical\u001b[0m\u001b[0;34m\u001b[0m\u001b[0;34m\u001b[0m\u001b[0;34m\u001b[0m\u001b[0m\n",
            "\u001b[0;31mKeyError\u001b[0m: \"['artist'] not in index\""
          ]
        }
      ]
    },
    {
      "cell_type": "code",
      "metadata": {
        "colab": {
          "base_uri": "https://localhost:8080/",
          "height": 171
        },
        "id": "wBnabVGRcPB7",
        "outputId": "a81cd9da-75b9-4051-84c2-2e75549f49f7"
      },
      "source": [
        "df_spotify"
      ],
      "execution_count": null,
      "outputs": [
        {
          "output_type": "error",
          "ename": "NameError",
          "evalue": "ignored",
          "traceback": [
            "\u001b[0;31m---------------------------------------------------------------------------\u001b[0m",
            "\u001b[0;31mNameError\u001b[0m                                 Traceback (most recent call last)",
            "\u001b[0;32m<ipython-input-5-bfa80f684888>\u001b[0m in \u001b[0;36m<module>\u001b[0;34m()\u001b[0m\n\u001b[0;32m----> 1\u001b[0;31m \u001b[0mdf_spotify\u001b[0m\u001b[0;34m\u001b[0m\u001b[0;34m\u001b[0m\u001b[0m\n\u001b[0m",
            "\u001b[0;31mNameError\u001b[0m: name 'df_spotify' is not defined"
          ]
        }
      ]
    },
    {
      "cell_type": "markdown",
      "metadata": {
        "id": "RtAT0KVqhOZo"
      },
      "source": [
        "## merge"
      ]
    },
    {
      "cell_type": "code",
      "metadata": {
        "id": "Y8CZF-55gEXc"
      },
      "source": [
        "df_merge = pd.merge(df_save,df_spotify,how='inner',on=['song','artist'])"
      ],
      "execution_count": null,
      "outputs": []
    },
    {
      "cell_type": "code",
      "metadata": {
        "id": "gQyuywNthngU"
      },
      "source": [
        "df_merge.to_excel('aaa.xlsx')"
      ],
      "execution_count": null,
      "outputs": []
    },
    {
      "cell_type": "code",
      "metadata": {
        "id": "RnkpD09Jh6QV"
      },
      "source": [
        "23%12"
      ],
      "execution_count": null,
      "outputs": []
    },
    {
      "cell_type": "code",
      "metadata": {
        "id": "JUZFZlTzhWqV"
      },
      "source": [
        ""
      ],
      "execution_count": null,
      "outputs": []
    }
  ]
}